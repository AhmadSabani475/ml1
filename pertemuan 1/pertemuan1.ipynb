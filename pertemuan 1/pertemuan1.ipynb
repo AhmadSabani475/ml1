{
 "cells": [
  {
   "cell_type": "markdown",
   "id": "99f94773",
   "metadata": {},
   "source": [
    "# Nim : 231351011\n",
    "# Nama : Ahmad Rizki Sabani"
   ]
  },
  {
   "cell_type": "code",
   "execution_count": 2,
   "id": "003b3d03",
   "metadata": {},
   "outputs": [
    {
     "name": "stdout",
     "output_type": "stream",
     "text": [
      "Hello World\n"
     ]
    }
   ],
   "source": [
    "print(\"Hello World\")"
   ]
  },
  {
   "cell_type": "code",
   "execution_count": 1,
   "id": "9914d733",
   "metadata": {},
   "outputs": [
    {
     "name": "stdout",
     "output_type": "stream",
     "text": [
      "15\n"
     ]
    }
   ],
   "source": [
    "a = 5\n",
    "b= 10\n",
    "hasil = a + b\n",
    "print(hasil)"
   ]
  },
  {
   "cell_type": "code",
   "execution_count": null,
   "id": "05140df5",
   "metadata": {},
   "outputs": [],
   "source": [
    "import pandas as pd\n",
    "import numpy as np\n",
    "import matplotlib.pyplot as plt\n",
    "import seaborn as sns \n"
   ]
  },
  {
   "cell_type": "code",
   "execution_count": null,
   "id": "c678161b",
   "metadata": {},
   "outputs": [],
   "source": [
    "df = pd.read_csv('pasien.csv')"
   ]
  },
  {
   "cell_type": "code",
   "execution_count": 9,
   "id": "7a87e719",
   "metadata": {},
   "outputs": [
    {
     "data": {
      "text/html": [
       "<div>\n",
       "<style scoped>\n",
       "    .dataframe tbody tr th:only-of-type {\n",
       "        vertical-align: middle;\n",
       "    }\n",
       "\n",
       "    .dataframe tbody tr th {\n",
       "        vertical-align: top;\n",
       "    }\n",
       "\n",
       "    .dataframe thead th {\n",
       "        text-align: right;\n",
       "    }\n",
       "</style>\n",
       "<table border=\"1\" class=\"dataframe\">\n",
       "  <thead>\n",
       "    <tr style=\"text-align: right;\">\n",
       "      <th></th>\n",
       "      <th>PatientID</th>\n",
       "      <th>Age</th>\n",
       "      <th>Gender</th>\n",
       "      <th>Region</th>\n",
       "      <th>BMI</th>\n",
       "      <th>BloodPressure</th>\n",
       "      <th>Cholesterol</th>\n",
       "      <th>Diabetes</th>\n",
       "      <th>Smoking</th>\n",
       "      <th>ExerciseFreq</th>\n",
       "      <th>HospitalVisits</th>\n",
       "      <th>TreatmentCost</th>\n",
       "      <th>Satisfaction</th>\n",
       "    </tr>\n",
       "  </thead>\n",
       "  <tbody>\n",
       "    <tr>\n",
       "      <th>0</th>\n",
       "      <td>1</td>\n",
       "      <td>66</td>\n",
       "      <td>Laki-laki</td>\n",
       "      <td>Sulawesi</td>\n",
       "      <td>23.6</td>\n",
       "      <td>110</td>\n",
       "      <td>Normal</td>\n",
       "      <td>Tidak</td>\n",
       "      <td>Tidak</td>\n",
       "      <td>Kadang</td>\n",
       "      <td>1</td>\n",
       "      <td>2026000.0</td>\n",
       "      <td>5</td>\n",
       "    </tr>\n",
       "    <tr>\n",
       "      <th>1</th>\n",
       "      <td>2</td>\n",
       "      <td>17</td>\n",
       "      <td>Laki-laki</td>\n",
       "      <td>Papua</td>\n",
       "      <td>27.4</td>\n",
       "      <td>176</td>\n",
       "      <td>Tinggi</td>\n",
       "      <td>Tidak</td>\n",
       "      <td>Tidak</td>\n",
       "      <td>Jarang</td>\n",
       "      <td>1</td>\n",
       "      <td>1114000.0</td>\n",
       "      <td>1</td>\n",
       "    </tr>\n",
       "    <tr>\n",
       "      <th>2</th>\n",
       "      <td>3</td>\n",
       "      <td>83</td>\n",
       "      <td>Laki-laki</td>\n",
       "      <td>Sumatra</td>\n",
       "      <td>18.6</td>\n",
       "      <td>168</td>\n",
       "      <td>Tinggi</td>\n",
       "      <td>Tidak</td>\n",
       "      <td>Tidak</td>\n",
       "      <td>Rutin</td>\n",
       "      <td>2</td>\n",
       "      <td>1276000.0</td>\n",
       "      <td>4</td>\n",
       "    </tr>\n",
       "    <tr>\n",
       "      <th>3</th>\n",
       "      <td>4</td>\n",
       "      <td>57</td>\n",
       "      <td>Laki-laki</td>\n",
       "      <td>Bali-Nusa</td>\n",
       "      <td>21.2</td>\n",
       "      <td>176</td>\n",
       "      <td>Normal</td>\n",
       "      <td>Tidak</td>\n",
       "      <td>Tidak</td>\n",
       "      <td>Rutin</td>\n",
       "      <td>2</td>\n",
       "      <td>2695000.0</td>\n",
       "      <td>5</td>\n",
       "    </tr>\n",
       "    <tr>\n",
       "      <th>4</th>\n",
       "      <td>5</td>\n",
       "      <td>86</td>\n",
       "      <td>Laki-laki</td>\n",
       "      <td>Bali-Nusa</td>\n",
       "      <td>25.1</td>\n",
       "      <td>178</td>\n",
       "      <td>Normal</td>\n",
       "      <td>Tidak</td>\n",
       "      <td>Ya</td>\n",
       "      <td>Jarang</td>\n",
       "      <td>3</td>\n",
       "      <td>3026000.0</td>\n",
       "      <td>4</td>\n",
       "    </tr>\n",
       "  </tbody>\n",
       "</table>\n",
       "</div>"
      ],
      "text/plain": [
       "   PatientID  Age     Gender     Region   BMI  BloodPressure Cholesterol  \\\n",
       "0          1   66  Laki-laki   Sulawesi  23.6            110      Normal   \n",
       "1          2   17  Laki-laki      Papua  27.4            176      Tinggi   \n",
       "2          3   83  Laki-laki    Sumatra  18.6            168      Tinggi   \n",
       "3          4   57  Laki-laki  Bali-Nusa  21.2            176      Normal   \n",
       "4          5   86  Laki-laki  Bali-Nusa  25.1            178      Normal   \n",
       "\n",
       "  Diabetes Smoking ExerciseFreq  HospitalVisits  TreatmentCost  Satisfaction  \n",
       "0    Tidak   Tidak       Kadang               1      2026000.0             5  \n",
       "1    Tidak   Tidak       Jarang               1      1114000.0             1  \n",
       "2    Tidak   Tidak        Rutin               2      1276000.0             4  \n",
       "3    Tidak   Tidak        Rutin               2      2695000.0             5  \n",
       "4    Tidak      Ya       Jarang               3      3026000.0             4  "
      ]
     },
     "execution_count": 9,
     "metadata": {},
     "output_type": "execute_result"
    }
   ],
   "source": [
    "df.head()"
   ]
  },
  {
   "cell_type": "code",
   "execution_count": 13,
   "id": "43ceff19",
   "metadata": {},
   "outputs": [
    {
     "data": {
      "text/plain": [
       "<Axes: xlabel='Gender', ylabel='count'>"
      ]
     },
     "execution_count": 13,
     "metadata": {},
     "output_type": "execute_result"
    },
    {
     "data": {
      "image/png": "[encoded data removed]",
      "text/plain": [
       "<Figure size 640x480 with 1 Axes>"
      ]
     },
     "metadata": {},
     "output_type": "display_data"
    }
   ],
   "source": [
    "sns.countplot(df, x=\"Gender\")"
   ]
  },
  {
   "cell_type": "code",
   "execution_count": 12,
   "id": "5422dce3",
   "metadata": {},
   "outputs": [
    {
     "data": {
      "text/plain": [
       "<Axes: xlabel='Gender', ylabel='count'>"
      ]
     },
     "execution_count": 12,
     "metadata": {},
     "output_type": "execute_result"
    },
    {
     "data": {
      "image/png": "[encoded data removed]",
      "text/plain": [
       "<Figure size 640x480 with 1 Axes>"
      ]
     },
     "metadata": {},
     "output_type": "display_data"
    }
   ],
   "source": [
    "sns.countplot(df, x=\"Gender\", hue=\"Smoking\")"
   ]
  }
 ],
 "metadata": {
  "kernelspec": {
   "display_name": "Python 3",
   "language": "python",
   "name": "python3"
  },
  "language_info": {
   "codemirror_mode": {
    "name": "ipython",
    "version": 3
   },
   "file_extension": ".py",
   "mimetype": "text/x-python",
   "name": "python",
   "nbconvert_exporter": "python",
   "pygments_lexer": "ipython3",
   "version": "3.13.7"
  }
 },
 "nbformat": 4,
 "nbformat_minor": 5
}
