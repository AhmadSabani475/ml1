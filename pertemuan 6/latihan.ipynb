{
 "cells": [
  {
   "cell_type": "markdown",
   "id": "6f3d3ecd",
   "metadata": {},
   "source": [
    "### import Library"
   ]
  },
  {
   "cell_type": "code",
   "execution_count": 1,
   "id": "a516c330",
   "metadata": {},
   "outputs": [],
   "source": [
    "import pandas as pd\n",
    "import numpy as np\n",
    "from sklearn.model_selection import train_test_split\n",
    "from sklearn.preprocessing import LabelEncoder\n",
    "from sklearn.neighbors import KNeighborsClassifier\n",
    "from sklearn.metrics import accuracy_score, confusion_matrix\n",
    "import matplotlib.pyplot as plt\n",
    "import seaborn as sns"
   ]
  },
  {
   "cell_type": "markdown",
   "id": "2479c34c",
   "metadata": {},
   "source": [
    "### DataFrame"
   ]
  },
  {
   "cell_type": "code",
   "execution_count": null,
   "id": "61cdef39",
   "metadata": {},
   "outputs": [],
   "source": [
    "df = pd.read_csv()"
   ]
  },
  {
   "cell_type": "markdown",
   "id": "2c16669c",
   "metadata": {},
   "source": [
    "### EDA"
   ]
  },
  {
   "cell_type": "markdown",
   "id": "f6e7f411",
   "metadata": {},
   "source": [
    "### Data Preprocessing"
   ]
  },
  {
   "cell_type": "markdown",
   "id": "26d753aa",
   "metadata": {},
   "source": [
    "### Tentukan X dan Y"
   ]
  },
  {
   "cell_type": "markdown",
   "id": "898218af",
   "metadata": {},
   "source": [
    "### Split Data"
   ]
  },
  {
   "cell_type": "markdown",
   "id": "1c17f788",
   "metadata": {},
   "source": [
    "### Masukan Algoritma"
   ]
  },
  {
   "cell_type": "markdown",
   "id": "86065dbc",
   "metadata": {},
   "source": [
    "### akurasi testing"
   ]
  },
  {
   "cell_type": "markdown",
   "id": "fcf8d190",
   "metadata": {},
   "source": [
    "### simulasi data baru"
   ]
  },
  {
   "cell_type": "markdown",
   "id": "28692b31",
   "metadata": {},
   "source": []
  }
 ],
 "metadata": {
  "kernelspec": {
   "display_name": "Python 3",
   "language": "python",
   "name": "python3"
  },
  "language_info": {
   "codemirror_mode": {
    "name": "ipython",
    "version": 3
   },
   "file_extension": ".py",
   "mimetype": "text/x-python",
   "name": "python",
   "nbconvert_exporter": "python",
   "pygments_lexer": "ipython3",
   "version": "3.13.7"
  }
 },
 "nbformat": 4,
 "nbformat_minor": 5
}
